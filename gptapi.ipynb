{
 "cells": [
  {
   "cell_type": "code",
   "execution_count": 11,
   "metadata": {},
   "outputs": [],
   "source": [
    "from openai import OpenAI\n",
    "\n",
    "with open('API_KEY', 'r') as file:\n",
    "    API_KEY = file.read().strip()\n",
    "\n",
    "client = OpenAI(\n",
    "    api_key=API_KEY\n",
    ")\n",
    "# defaults to getting the key using os.environ.get(\"OPENAI_API_KEY\")\n"
   ]
  },
  {
   "cell_type": "code",
   "execution_count": 39,
   "metadata": {},
   "outputs": [
    {
     "name": "stdout",
     "output_type": "stream",
     "text": [
      "['discriminatory', 'extremism', 'profiling', 'stereotyping', 'islamism', 'eugenics', 'orientations', 'colonialism', 'slur', 'predominance']\n"
     ]
    }
   ],
   "source": [
    "import pandas as pd\n",
    "\n",
    "df = pd.read_csv('similar_sensitive_words.csv')\n",
    "\n",
    "# each request should be just 10 terms\n",
    "n = 10\n",
    "df_chunks = [df[i:i + n] for i in range(0, df.shape[0], n)]\n",
    "\n",
    "# to be carefull of token limits drop most rows\n",
    "df_chunks = df_chunks[0:2]\n",
    "\n",
    "# convert the list of chunks to a list of lists turned into strings with the similar_word column\n",
    "requests = [[str(l) for l in df_chunk[\"similar_word\"]] for df_chunk in df_chunks]\n",
    "print(f\"{requests[0]}\")\n"
   ]
  },
  {
   "cell_type": "code",
   "execution_count": 51,
   "metadata": {},
   "outputs": [
    {
     "name": "stdout",
     "output_type": "stream",
     "text": [
      "```json\n",
      "[\n",
      "    {\n",
      "        \"word\": \"totalitarianism\",\n",
      "        \"sensitivity_rating\": 0.7,\n",
      "        \"definition\": \"A system of government that is centralized and dictatorial and requires complete subservience to the state.\",\n",
      "        \"translations_options\": [\n",
      "            {\"options\": \"Totalitarismus\", \"nuance\": \"Direct translation capturing the concept universally.\"},\n",
      "            {\"options\": \"Diktatur\", \"nuance\": \"Emphasizes the dictatorial aspect, slightly less precise.\"},\n",
      "            {\"options\": \"autoritäres Regime\", \"nuance\": \"Highlights authoritarian nature, broader than 'Totalitarismus'.\"},\n",
      "            {\"options\": \"Staatsabsolutismus\", \"nuance\": \"Focuses on the absolute power of the state, historical nuance.\"}\n",
      "        ]\n",
      "    },\n",
      "    {\n",
      "        \"word\": \"xenophobic\",\n",
      "        \"sensitivity_rating\": 0.9,\n",
      "        \"definition\": \"Having or showing a dislike of or prejudice against people from other countries.\",\n",
      "        \"translations_options\": [\n",
      "            {\"options\": \"fremdenfeindlich\", \"nuance\": \"Direct translation, emphasizing hostility towards foreigners.\"},\n",
      "            {\"options\": \"ausländerfeindlich\", \"nuance\": \"Highlights animosity specifically towards foreigners.\"},\n",
      "            {\"options\": \"xenophob\", \"nuance\": \"General term for xenophobia, less specific, broader concept.\"},\n",
      "            {\"options\": \"rassistisch\", \"nuance\": \"Broader term that includes racial prejudice, slightly different focus.\"}\n",
      "        ]\n",
      "    },\n",
      "    {\n",
      "        \"word\": \"genocidal\",\n",
      "        \"sensitivity_rating\": 1,\n",
      "        \"definition\": \"Relating to or involving the deliberate killing of a large group of people of a particular nation or ethnic group.\",\n",
      "        \"translations_options\": [\n",
      "            {\"options\": \"völkermörderisch\", \"nuance\": \"Direct translation, very strong, sensitive term for mass killings.\"},\n",
      "            {\"options\": \"genozidal\", \"nuance\": \"Terms directly referring to genocide, equally sensitive.\"},\n",
      "            {\"options\": \"menschenverachtend\", \"nuance\": \"Broader term, implying contempt for human life, less specific.\"},\n",
      "            {\"options\": \"massenmordend\", \"nuance\": \"Focus on the act of mass murder, slightly broader context.\"}\n",
      "        ]\n",
      "    },\n",
      "    {\n",
      "        \"word\": \"americanism\",\n",
      "        \"sensitivity_rating\": 0.5,\n",
      "        \"definition\": \"A trait, custom, or tradition particular to the United States of America or its inhabitants.\",\n",
      "        \"translations_options\": [\n",
      "            {\"options\": \"Amerikanismus\", \"nuance\": \"Neutral, direct translation, capturing the concept without judgment.\"},\n",
      "            {\"options\": \"amerikanische Eigenheit\", \"nuance\": \"Focuses on the characteristic aspect, slightly positive.\"},\n",
      "            {\"options\": \"US-amerikanische Besonderheit\", \"nuance\": \"Specifies the U.S., avoiding broader 'American' confusion.\"},\n",
      "            {\"options\": \"amerikanische Kultur\", \"nuance\": \"Broad, focusing on culture, potentially less precise.\"}\n",
      "        ]\n",
      "    },\n",
      "    {\n",
      "        \"word\": \"pederasty\",\n",
      "        \"sensitivity_rating\": 1,\n",
      "        \"definition\": \"Sexual relations between an adult male and a younger male, historically considered in ancient Greece.\",\n",
      "        \"translations_options\": [\n",
      "            {\"options\": \"Päderastie\", \"nuance\": \"Direct translation, historically aware but sensitive due to modern connotations.\"},\n",
      "            {\"options\": \"Knabenliebe\", \"nuance\": \"Historical context, less clinical but still sensitive.\"},\n",
      "            {\"options\": \"homosexuelle Pädophilie\", \"nuance\": \"Modern legal term, very sensitive and specific.\"},\n",
      "            {\"options\": \"Altersdiskrepante Homosexualität\", \"nuance\": \"Clinical, focuses on age difference, sensitive usage.\"}\n",
      "        ]\n",
      "    },\n",
      "    {\n",
      "        \"word\": \"supremacy\",\n",
      "        \"sensitivity_rating\": 0.8,\n",
      "        \"definition\": \"The state or condition of being superior to all others in authority, power, or status.\",\n",
      "        \"translations_options\": [\n",
      "            {\"options\": \"Vorherrschaft\", \"nuance\": \"Neutral term for dominance in various contexts.\"},\n",
      "            {\"options\": \"Überlegenheit\", \"nuance\": \"Can imply superiority in a less political, more general sense.\"},\n",
      "            {\"options\": \"Suprematie\", \"nuance\": \"Direct translation, carries the same weight and context.\"},\n",
      "            {\"options\": \"Oberherrschaft\", \"nuance\": \"Strong term for dominance, can be politically sensitive.\"}\n",
      "        ]\n",
      "    },\n",
      "    {\n",
      "        \"word\": \"clerics\",\n",
      "        \"sensitivity_rating\": 0.3,\n",
      "        \"definition\": \"Members of the clergy, especially in Christianity.\",\n",
      "        \"translations_options\": [\n",
      "            {\"options\": \"Geistliche\", \"nuance\": \"Neutral, generic term for members of the clergy.\"},\n",
      "            {\"options\": \"Kleriker\", \"nuance\": \"Similar to 'Geistliche', but with a slightly more formal, historical tone.\"},\n",
      "            {\"options\": \"Kirchenmänner\", \"nuance\": \"Focuses on gender, traditional, excludes women.\"},\n",
      "            {\"options\": \"Seelsorger\", \"nuance\": \"Emphasizes the pastoral care aspect, broader term.\"}\n",
      "        ]\n",
      "    },\n",
      "    {\n",
      "        \"word\": \"hygiene\",\n",
      "        \"sensitivity_rating\": 0.2,\n",
      "        \"definition\": \"Conditions or practices conducive to maintaining health and preventing disease, especially through cleanliness.\",\n",
      "        \"translations_options\": [\n",
      "            {\"options\": \"Hygiene\", \"nuance\": \"Direct translation, universally understood term.\"},\n",
      "            {\"options\": \"Sauberkeit\", \"nuance\": \"Focuses more on cleanliness than the broader health implications.\"},\n",
      "            {\"options\": \"Gesundheitsvorsorge\", \"nuance\": \"Broader term encompassing overall health precaution measures.\"},\n",
      "            {\"options\": \"Keimfreiheit\", \"nuance\": \"Focuses on germ-free conditions, more specific aspect of hygiene.\"}\n",
      "        ]\n",
      "    },\n",
      "    {\n",
      "        \"word\": \"racially\",\n",
      "        \"sensitivity_rating\": 0.8,\n",
      "        \"definition\": \"With reference to someone's race, often highlighting aspects of racial discrimination or differences.\",\n",
      "        \"translations_options\": [\n",
      "            {\"options\": \"rassisch\", \"nuance\": \"Direct translation, but rarely used; potentially awkward or sensitive.\"},\n",
      "            {\"options\": \"hinsichtlich der Rasse\", \"nuance\": \"Formal, specifying 'with regard to race'; more neutral.\"},\n",
      "            {\"options\": \"aufgrund von Rasse\", \"nuance\": \"Implies action or bias due to race; can be sensitive.\"},\n",
      "            {\"options\": \"rassenbezogen\", \"nuance\": \"Related to race, neutral but acknowledges racial context.\"}\n",
      "        ]\n",
      "    },\n",
      "    {\n",
      "        \"word\": \"zionism\",\n",
      "        \"sensitivity_rating\": 0.9,\n",
      "        \"definition\": \"A movement for (originally) the re-establishment and (now) the development and protection of a Jewish nation in what is now Israel.\",\n",
      "        \"translations_options\": [\n",
      "            {\"options\": \"Zionismus\", \"nuance\": \"Direct translation, carrying the same historical and political weight.\"},\n",
      "            {\"options\": \"jüdische Nationalbewegung\", \"nuance\": \"Describes the movement without the specific term, slightly broader.\"},\n",
      "            {\"options\": \"jüdischer Nationalismus\", \"nuance\": \"Focuses on the nationalistic aspect, can be perceived differently.\"},\n",
      "            {\"options\": \"Heimstattbewegung\", \"nuance\": \"Historical term used in early Zionist context, less common today.\"}\n",
      "        ]\n",
      "    }\n",
      "]\n",
      "```\n"
     ]
    }
   ],
   "source": [
    "gpt3 = \"gpt-3.5-turbo\"\n",
    "gpt4 = \"gpt-4-turbo-preview\"\n",
    "\n",
    "completion = client.chat.completions.create(\n",
    "  model=gpt4,\n",
    "  # response_format={ \"type\": \"json_object\" }, # argument that forces the response to be a json object but this seems to not work on a list of words as requests\n",
    "  messages=[\n",
    "    {\"role\": \"system\", \"content\": \"\"\"Your role is to assess the sensitivity of list of words provided in either German or English, assigning a sensitivity rating from 0 to 1, with 1 being very sensitive. Upon receiving a word, you will in one paragraph for each word propose how this word can be defined, pinpoint what is sensitive about the word, and discuss if possible 2 or 3 options for translating it between English and German. Each paragraph should be very short, spanning a maximum of 250 tokens in total. This requires concise yet insightful analysis, ensuring language is used respectfully and accurately, with a focus on cultural and contextual nuances.\n",
    "\n",
    "Incorporate the principles and goals of macht.sprache. to support users working in German and English to translate more sensitively. This includes recognizing and addressing linguistic discrimination, finding expressions that de-normalize such discrimination, and fostering awareness for the sensitive handling of political terms in translations. Emphasize continuity, collaboration, creativity, and accessibility in this process. It's essential to understand that macht.sprache. cannot take responsibility for the sensitivity of human translators with political terms, emphasizing the importance of self-education.\n",
    "\n",
    "Consider the perspectives provided by macht.sprache. on recognizing power and privileges, increasing awareness for justice, and choosing words that minimize harm over those that cause it. All translation decisions are political, and this perspective should guide the sensitivity assessment and translation options provided. The collaborative and ongoing nature of macht.sprache., its foundation in diverse expert contributions, and its commitment to pragmatism, accessibility, and creativity in translations are integral to your analysis and recommendations.\n",
    "\n",
    "Outputs should be in JSON format with the following keys for each word is the requested list: \"word\", \"sensitivity_rating\", \"definition\", and \"translations_options\" with a list of 4 \"options\" and their \"nuance\".\"\"\"},\n",
    "    {\"role\": \"user\", \"content\": f\"{requests[1]}\"},\n",
    "  ]\n",
    ")\n",
    "\n",
    "print(completion.choices[0].message.content)"
   ]
  },
  {
   "cell_type": "code",
   "execution_count": null,
   "metadata": {},
   "outputs": [],
   "source": [
    "    {\"role\": \"system\", \"content\": \"\"\"Your role is to assess the sensitivity of words provided in either German or English, assigning a sensitivity rating from 0 to 1, with 1 being very sensitive. Upon receiving a word, you will in one paragraph for each word propose how this word can be defined, pinpoint what is sensitive about the word, and discuss if possible 2 or 3 options for translating it between English and German. Each paragraph should be very short, spanning a maximum of 150 tokens in total. This requires concise yet insightful analysis, ensuring language is used respectfully and accurately, with a focus on cultural and contextual nuances.\n",
    "\n",
    "Incorporate the principles and goals of macht.sprache. to support users working in German and English to translate more sensitively. This includes recognizing and addressing linguistic discrimination, finding expressions that de-normalize such discrimination, and fostering awareness for the sensitive handling of political terms in translations. Emphasize continuity, collaboration, creativity, and accessibility in this process. It's essential to understand that macht.sprache. cannot take responsibility for the sensitivity of human translators with political terms, emphasizing the importance of self-education.\n",
    "\n",
    "Consider the perspectives provided by macht.sprache. on recognizing power and privileges, increasing awareness for justice, and choosing words that minimize harm over those that cause it. All translation decisions are political, and this perspective should guide the sensitivity assessment and translation options provided. The collaborative and ongoing nature of macht.sprache., its foundation in diverse expert contributions, and its commitment to pragmatism, accessibility, and creativity in translations are integral to your analysis and recommendations.\n",
    "\n",
    "Outputs should be in JSON format with four entries for each word: the word itself, its sensitivity rating, a definition, and 2 to 4 translation options with their relation.\"\"\"},\n",
    "    {\"role\": \"user\", \"content\": requests[0]},\n",
    "  ]\n",
    ")"
   ]
  },
  {
   "cell_type": "code",
   "execution_count": 50,
   "metadata": {},
   "outputs": [],
   "source": [
    "# Specify the file name\n",
    "file_name = \"output.json\"\n",
    "\n",
    "# Use open() to open the file in write mode ('w')\n",
    "# If the file does not exist, it will be created.\n",
    "with open(file_name, 'w') as file:\n",
    "    # Use the write() method to write the string to the file\n",
    "    file.write(completion.choices[0].message.content)\n",
    "\n",
    "# Open the file in append mode to add additional content instead of overwriting the content\n",
    "# with open(file_name, 'a') as file:\n",
    "#     file.write(\"\\nThis is additional content.\")"
   ]
  },
  {
   "cell_type": "code",
   "execution_count": 37,
   "metadata": {},
   "outputs": [
    {
     "data": {
      "text/plain": [
       "str"
      ]
     },
     "execution_count": 37,
     "metadata": {},
     "output_type": "execute_result"
    }
   ],
   "source": []
  },
  {
   "cell_type": "code",
   "execution_count": null,
   "metadata": {},
   "outputs": [],
   "source": []
  }
 ],
 "metadata": {
  "kernelspec": {
   "display_name": "Python 3",
   "language": "python",
   "name": "python3"
  },
  "language_info": {
   "codemirror_mode": {
    "name": "ipython",
    "version": 3
   },
   "file_extension": ".py",
   "mimetype": "text/x-python",
   "name": "python",
   "nbconvert_exporter": "python",
   "pygments_lexer": "ipython3",
   "version": "3.12.1"
  }
 },
 "nbformat": 4,
 "nbformat_minor": 2
}
